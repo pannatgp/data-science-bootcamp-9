{
  "nbformat": 4,
  "nbformat_minor": 0,
  "metadata": {
    "colab": {
      "provenance": []
    },
    "kernelspec": {
      "name": "ir",
      "display_name": "R"
    },
    "language_info": {
      "name": "R"
    }
  },
  "cells": [
    {
      "cell_type": "markdown",
      "source": [
        "## **GAME**  ✊📄✂️ ✊✋✌️\n"
      ],
      "metadata": {
        "id": "GUFMsDVZ8r8B"
      }
    },
    {
      "cell_type": "code",
      "execution_count": null,
      "metadata": {
        "id": "HOyYiFjCyDPr"
      },
      "outputs": [],
      "source": [
        "game <- function() {\n",
        "\n",
        " # Greeting\n",
        "\n",
        "    print(\"Hello, welcome to the game\")\n",
        "\n",
        "    flush.console()\n",
        "    username <- readline(\"What's your name: \")\n",
        "\n",
        "    print(paste(\"Let's play game!\", username))\n",
        "\n",
        " # Explain the rules\n",
        "\n",
        "    print(\"The rules are: Rock beats scisscors. Scissors beats paper. Paper beats rock.\")\n",
        "\n",
        " # Collect score for user and computer\n",
        "    user_score <- 0\n",
        "    robot_score <- 0\n",
        "    play_again <- 'y'\n",
        "\n",
        " # Play game until user not typing y\n",
        "\n",
        "     while(play_again == 'y')\n",
        "     {  flush.console()\n",
        "        input <- as.integer(readline(\"Say HI! We will be playing ROCK(1) - PAPER(2) - SCISSORS(3)!!! Please type 1,2 or 3: \"))\n",
        "        if (input == 1) {\n",
        "        i = \"ROCK\"\n",
        "        }else if (input == 2){\n",
        "        i = \"PAPER\"\n",
        "        }else if (input == 3){\n",
        "        i = \"SCISSORS\"\n",
        "        }else {\n",
        "        print(\"Game Over. Try again. Input 1, 2 or 3\")\n",
        "        flush.console()\n",
        "        break\n",
        "        }\n",
        "\n",
        "    #Sampling data for robot\n",
        "\n",
        "        hands <- c(\"ROCK\", \"PAPER\", \"SCISSORS\")\n",
        "        robot = sample(hands,1)\n",
        "\n",
        "    #Show result\n",
        "\n",
        "        print(paste(\"You are\", i))\n",
        "        print(paste(\"The opponent is\", robot))\n",
        "\n",
        "        # Draw\n",
        "        if(i == robot) {\n",
        "                print(\"Draw\")\n",
        "                user_score = user_score + 1\n",
        "                robot_score = robot_score + 1\n",
        "                print(paste(\"Your score: \", user_score))\n",
        "                print(paste(\"The opponent score: \", robot_score))\n",
        "\n",
        "        # User Wins !\n",
        "        }else if (i == \"ROCK\" & robot == \"SCISSORS\"){\n",
        "                print(\"ํYou Win!\")\n",
        "                user_score = user_score + 1\n",
        "                print(paste(\"Your score: \", user_score))\n",
        "                print(paste(\"The opponent score: \", robot_score))\n",
        "        }else if (i == \"PAPER\" & robot == \"ROCK\"){\n",
        "                print(\"ํYou Win!\")\n",
        "                user_score = user_score + 1\n",
        "                print(paste(\"Your score: \", user_score))\n",
        "                print(paste(\"The opponent score: \", robot_score))\n",
        "        }else if (i == \"SCISSORS\" & robot == \"PAPER\"){\n",
        "                print(\"You Win!\")\n",
        "                user_score = user_score + 1\n",
        "                print(paste(\"Your score: \", user_score))\n",
        "                print(paste(\"The opponent score: \", robot_score))\n",
        "\n",
        "         # User Loses!\n",
        "        }else if (i == \"ROCK\" & robot == \"PAPER\" ){\n",
        "                print(\"You lose.\")\n",
        "                robot_score = robot_score + 1\n",
        "                print(paste(\"Your score: \", user_score))\n",
        "                print(paste(\"The opponent score: \", robot_score))\n",
        "        }else if (i == \"PAPER\" & robot == \"SCISSORS\"){\n",
        "                print(\"You lose.\")\n",
        "                robot_score = robot_score + 1\n",
        "                print(paste(\"Your score: \", user_score))\n",
        "                print(paste(\"The opponent score: \", robot_score))\n",
        "        }else if (i == \"SCISSORS\" & robot == \"ROCK\"){\n",
        "                print(\"You lose.\")\n",
        "                robot_score = robot_score + 1\n",
        "                print(paste(\"Your score: \", user_score))\n",
        "                print(paste(\"The opponent score: \", robot_score))\n",
        "\n",
        "        # Other wise (user types integer other than 1,2,3)\n",
        "        }else {\n",
        "                print( \"You broke the rules. Out of order\")\n",
        "                print(paste(\"Your score: \", user_score))\n",
        "                print(robot_score(\"The opponent score: \", robot_score))\n",
        "        }\n",
        "\n",
        "        # Ask if user would like to play again\n",
        "        flush.console()\n",
        "        play_again <- as.character(readline(\"Would you like to play again? type: y if yes \"))\n",
        "\n",
        "        if(play_again != 'y')\n",
        "            {\n",
        "                print(\"Game has finished.\")\n",
        "                flush.console()\n",
        "                break\n",
        "            }\n",
        "      }\n",
        "}\n"
      ]
    },
    {
      "cell_type": "markdown",
      "source": [
        "## Play game !!! ✊📄✂️ ✊✋✌️"
      ],
      "metadata": {
        "id": "A49DUSX6FCXK"
      }
    },
    {
      "cell_type": "code",
      "source": [
        "game()"
      ],
      "metadata": {
        "colab": {
          "base_uri": "https://localhost:8080/"
        },
        "id": "69O2qUnp3oIB",
        "outputId": "a51fac13-4041-4f0a-f350-012b9099f849"
      },
      "execution_count": null,
      "outputs": [
        {
          "output_type": "stream",
          "name": "stdout",
          "text": [
            "[1] \"Hello, welcome to the game\"\n",
            "What's your name: Saimai\n",
            "[1] \"Let's play game! Saimai\"\n",
            "[1] \"The rules are: Rock beats scisscors. Scissors beats paper. Paper beats rock.\"\n",
            "Say HI! We will be playing ROCK(1) - PAPER(2) - SCISSORS(3)!!! Please type 1,2 or 3: 1\n",
            "[1] \"You are ROCK\"\n",
            "[1] \"The opponent is PAPER\"\n",
            "[1] \"You lose.\"\n",
            "[1] \"Your score:  0\"\n",
            "[1] \"The opponent score:  1\"\n",
            "Would you like to play again? type: y if yes y\n",
            "Say HI! We will be playing ROCK(1) - PAPER(2) - SCISSORS(3)!!! Please type 1,2 or 3: 2\n",
            "[1] \"You are PAPER\"\n",
            "[1] \"The opponent is SCISSORS\"\n",
            "[1] \"You lose.\"\n",
            "[1] \"Your score:  0\"\n",
            "[1] \"The opponent score:  2\"\n",
            "Would you like to play again? type: y if yes y\n",
            "Say HI! We will be playing ROCK(1) - PAPER(2) - SCISSORS(3)!!! Please type 1,2 or 3: 3\n",
            "[1] \"You are SCISSORS\"\n",
            "[1] \"The opponent is ROCK\"\n",
            "[1] \"You lose.\"\n",
            "[1] \"Your score:  0\"\n",
            "[1] \"The opponent score:  3\"\n",
            "Would you like to play again? type: y if yes n\n",
            "[1] \"Game has finished.\"\n"
          ]
        }
      ]
    },
    {
      "cell_type": "code",
      "source": [
        "game()"
      ],
      "metadata": {
        "colab": {
          "base_uri": "https://localhost:8080/"
        },
        "id": "hArRzramuFkt",
        "outputId": "6e55cdc6-5f75-47a2-c383-39dc48037ae5"
      },
      "execution_count": null,
      "outputs": [
        {
          "output_type": "stream",
          "name": "stdout",
          "text": [
            "[1] \"Hello, welcome to the game\"\n",
            "What's your name: Saimai\n",
            "[1] \"Let's play game! Saimai\"\n",
            "[1] \"The rules are: Rock beats scisscors. Scissors beats paper. Paper beats rock.\"\n",
            "Say HI! We will be playing ROCK(1) - PAPER(2) - SCISSORS(3)!!! Please type 1,2 or 3: 1\n",
            "[1] \"You are ROCK\"\n",
            "[1] \"The opponent is ROCK\"\n",
            "[1] \"Draw\"\n",
            "[1] \"Your score:  1\"\n",
            "[1] \"The opponent score:  1\"\n",
            "Would you like to play again? type: y if yes y\n",
            "Say HI! We will be playing ROCK(1) - PAPER(2) - SCISSORS(3)!!! Please type 1,2 or 3: 4\n",
            "[1] \"Game Over. Try again. Input 1, 2 or 3\"\n"
          ]
        }
      ]
    },
    {
      "cell_type": "markdown",
      "source": [
        "## **ORDER Pizzq CHATBOT** ༼ つ ◕_◕ ༽つ🍰🍔🍕😋"
      ],
      "metadata": {
        "id": "5dJp3uYS97im"
      }
    },
    {
      "cell_type": "code",
      "source": [
        "chatbot <- function() {\n",
        "\n",
        "    # Pizza's menu\n",
        "    menu = data.frame(\n",
        "        id = c(1:6),\n",
        "        pizza = c(rep(\"Dark Cutie Hawaiian\",2), rep(\"Seafood On The Beach\",2), rep(\"Pepperoni Paparazzi\",2)),\n",
        "        size = c(\"Whole pizza\",\"Piece\",\"Whole pizza\",\"Piece\",\"Whole pizza\",\"Piece\"),\n",
        "        price = c(500, 100, 600, 200, 400, 60)\n",
        "    )\n",
        "    bill <- 0\n",
        "\n",
        "    # Ask a customer what to order\n",
        "    username <- readline(\"Your name please..\")\n",
        "    add <- 'y'\n",
        "\n",
        "    while ( add == 'y' ) {\n",
        "        pizza <- readline(\"Hi! What would u like to order?, Sir \\n\n",
        "        Here is the menu.\n",
        "        We have 3 Kinds.\n",
        "        1- Dark Cutie Hawaiian\n",
        "        2- Seafood On The Beach\n",
        "        3- Pepperoni paparazzi\n",
        "        Please type 1, 2 or 3: \")\n",
        "\n",
        "        # Generate menu\n",
        "        if (pizza == 1) {\n",
        "            p = \"Dark Cutie Hawaiian\"\n",
        "        } else if (pizza == 2){\n",
        "            p = \"Seafood On The Beach\"\n",
        "        } else if (pizza == 3){\n",
        "            p = \"Pepperoni Paparazzi\"\n",
        "        } else {\n",
        "            print(\"Try again. Input 1, 2 or 3\")\n",
        "            game()\n",
        "        }\n",
        "\n",
        "        # Ask customer which size would you like (a whole pizza/ pieces)\n",
        "        how <- readline(\n",
        "        \"\n",
        "            How would you like to order?\n",
        "            1 - By A whole pizza\n",
        "                    or\n",
        "            2 - By A piece\n",
        "            Please type 1 or 2: \")\n",
        "\n",
        "        # Generate size of pizza\n",
        "        if (how == 1) {\n",
        "            h = \"Whole pizza\"\n",
        "        } else if (how == 2){\n",
        "            h = \"Piece\"\n",
        "        }  else {\n",
        "            print(\"Try again from the beginning. Input 1 or 2 on this stage. \")\n",
        "            game()\n",
        "        }\n",
        "\n",
        "        # Ask a customer the amount would like to order\n",
        "        many <- as.integer(readline(\"Please insert the amount of your order. \"))\n",
        "\n",
        "        # Calculate order\n",
        "        bill <- menu$price[menu$pizza == p & menu$size == h]*many + bill\n",
        "        print(bill)\n",
        "        print(paste(\"You ( Mr./Mrs./Ms.\", username, \")\", \"order\", p , \"for\", many , h))\n",
        "        print(paste(\"Current bill is \", bill, \"Baht\"))\n",
        "\n",
        "        # Ask if a customer would like to order more.\n",
        "        flush.console()\n",
        "        add <- readline(\"Would you like to order anything else, Sir?\n",
        "                        (y/n): \")\n",
        "        add <- tolower(add)\n",
        "    }\n",
        "\n",
        "    # Print order\n",
        "    if( add != 'y'){\n",
        "        print(paste(\"Total bill is \", bill, \"Baht\"))\n",
        "        print(paste(\"Thank you :) Have a good day kaa, sir . Please wait for the button and press next to proceed a payment.\"))\n",
        "        print(\"Dear Wonderful Customer, Please Transfer to Bank Account (Bank A) : 745-1-03912-6\")\n",
        "    }\n",
        "}"
      ],
      "metadata": {
        "id": "bNYr8DO77A2Y"
      },
      "execution_count": null,
      "outputs": []
    },
    {
      "cell_type": "code",
      "source": [
        "chatbot()"
      ],
      "metadata": {
        "colab": {
          "base_uri": "https://localhost:8080/"
        },
        "id": "N-5jmYJyGTjd",
        "outputId": "8f23c62d-2874-473c-d88c-e6794743622a"
      },
      "execution_count": null,
      "outputs": [
        {
          "output_type": "stream",
          "name": "stdout",
          "text": [
            "Your name please..A\n",
            "Hi! What would u like to order?, Sir \n",
            "\n",
            "        Here is the menu.\n",
            "        We have 3 Kinds.\n",
            "        1- Dark Cutie Hawaiian\n",
            "        2- Seafood On The Beach\n",
            "        3- Pepperoni paparazzi\n",
            "        Please type 1, 2 or 3: 1\n",
            "\n",
            "            How would you like to order?\n",
            "            1 - By A whole pizza\n",
            "                    or\n",
            "            2 - By A piece\n",
            "            Please type 1 or 2: 1\n",
            "Please insert the amount of your order. 10\n",
            "[1] 5000\n",
            "[1] \"You ( Mr./Mrs./Ms. A ) order Dark Cutie Hawaiian for 10 Whole pizza\"\n",
            "[1] \"Current bill is  5000 Baht\"\n",
            "Would you like to order anything else, Sir?\n",
            "                        (y/n): y\n",
            "Hi! What would u like to order?, Sir \n",
            "\n",
            "        Here is the menu.\n",
            "        We have 3 Kinds.\n",
            "        1- Dark Cutie Hawaiian\n",
            "        2- Seafood On The Beach\n",
            "        3- Pepperoni paparazzi\n",
            "        Please type 1, 2 or 3: 2\n",
            "\n",
            "            How would you like to order?\n",
            "            1 - By A whole pizza\n",
            "                    or\n",
            "            2 - By A piece\n",
            "            Please type 1 or 2: 2\n",
            "Please insert the amount of your order. 4\n",
            "[1] 5800\n",
            "[1] \"You ( Mr./Mrs./Ms. A ) order Seafood On The Beach for 4 Piece\"\n",
            "[1] \"Current bill is  5800 Baht\"\n",
            "Would you like to order anything else, Sir?\n",
            "                        (y/n): n\n",
            "[1] \"Total bill is  5800 Baht\"\n",
            "[1] \"Thank you :) Have a good day kaa, sir . Please wait for the button and press next to proceed a payment.\"\n",
            "[1] \"Dear Wonderful Customer, Please Transfer to Bank Account (Bank A) : 745-1-03912-6\"\n"
          ]
        }
      ]
    }
  ]
}